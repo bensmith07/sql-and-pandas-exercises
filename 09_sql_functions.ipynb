{
 "cells": [
  {
   "cell_type": "code",
   "execution_count": 1,
   "metadata": {},
   "outputs": [],
   "source": [
    "import pandas as pd\n",
    "import numpy as np \n",
    "import env"
   ]
  },
  {
   "cell_type": "code",
   "execution_count": 2,
   "metadata": {},
   "outputs": [],
   "source": [
    "url = env.get_db_url('employees')\n",
    "sql = 'SELECT * FROM employees;'\n",
    "df = pd.read_sql(sql, url)"
   ]
  },
  {
   "cell_type": "code",
   "execution_count": 3,
   "metadata": {},
   "outputs": [
    {
     "data": {
      "text/html": [
       "<div>\n",
       "<style scoped>\n",
       "    .dataframe tbody tr th:only-of-type {\n",
       "        vertical-align: middle;\n",
       "    }\n",
       "\n",
       "    .dataframe tbody tr th {\n",
       "        vertical-align: top;\n",
       "    }\n",
       "\n",
       "    .dataframe thead th {\n",
       "        text-align: right;\n",
       "    }\n",
       "</style>\n",
       "<table border=\"1\" class=\"dataframe\">\n",
       "  <thead>\n",
       "    <tr style=\"text-align: right;\">\n",
       "      <th></th>\n",
       "      <th>emp_no</th>\n",
       "      <th>birth_date</th>\n",
       "      <th>first_name</th>\n",
       "      <th>last_name</th>\n",
       "      <th>gender</th>\n",
       "      <th>hire_date</th>\n",
       "    </tr>\n",
       "  </thead>\n",
       "  <tbody>\n",
       "    <tr>\n",
       "      <th>0</th>\n",
       "      <td>10001</td>\n",
       "      <td>1953-09-02</td>\n",
       "      <td>Georgi</td>\n",
       "      <td>Facello</td>\n",
       "      <td>M</td>\n",
       "      <td>1986-06-26</td>\n",
       "    </tr>\n",
       "    <tr>\n",
       "      <th>1</th>\n",
       "      <td>10002</td>\n",
       "      <td>1964-06-02</td>\n",
       "      <td>Bezalel</td>\n",
       "      <td>Simmel</td>\n",
       "      <td>F</td>\n",
       "      <td>1985-11-21</td>\n",
       "    </tr>\n",
       "    <tr>\n",
       "      <th>2</th>\n",
       "      <td>10003</td>\n",
       "      <td>1959-12-03</td>\n",
       "      <td>Parto</td>\n",
       "      <td>Bamford</td>\n",
       "      <td>M</td>\n",
       "      <td>1986-08-28</td>\n",
       "    </tr>\n",
       "    <tr>\n",
       "      <th>3</th>\n",
       "      <td>10004</td>\n",
       "      <td>1954-05-01</td>\n",
       "      <td>Chirstian</td>\n",
       "      <td>Koblick</td>\n",
       "      <td>M</td>\n",
       "      <td>1986-12-01</td>\n",
       "    </tr>\n",
       "    <tr>\n",
       "      <th>4</th>\n",
       "      <td>10005</td>\n",
       "      <td>1955-01-21</td>\n",
       "      <td>Kyoichi</td>\n",
       "      <td>Maliniak</td>\n",
       "      <td>M</td>\n",
       "      <td>1989-09-12</td>\n",
       "    </tr>\n",
       "  </tbody>\n",
       "</table>\n",
       "</div>"
      ],
      "text/plain": [
       "   emp_no  birth_date first_name last_name gender   hire_date\n",
       "0   10001  1953-09-02     Georgi   Facello      M  1986-06-26\n",
       "1   10002  1964-06-02    Bezalel    Simmel      F  1985-11-21\n",
       "2   10003  1959-12-03      Parto   Bamford      M  1986-08-28\n",
       "3   10004  1954-05-01  Chirstian   Koblick      M  1986-12-01\n",
       "4   10005  1955-01-21    Kyoichi  Maliniak      M  1989-09-12"
      ]
     },
     "execution_count": 3,
     "metadata": {},
     "output_type": "execute_result"
    }
   ],
   "source": [
    "df.head()"
   ]
  },
  {
   "cell_type": "markdown",
   "metadata": {},
   "source": [
    "-- Write a query to to find all employees whose last name starts and ends with 'E'. \n",
    "combine their first and last name together as a single column \n",
    "named full_name. "
   ]
  },
  {
   "cell_type": "code",
   "execution_count": 4,
   "metadata": {},
   "outputs": [
    {
     "data": {
      "text/plain": [
       "20                Ramzi Erde\n",
       "130       Magdalena Eldridge\n",
       "249             Serap Etalle\n",
       "260                Mang Erie\n",
       "303               Bernt Erie\n",
       "                 ...        \n",
       "298161    Christfried Etalle\n",
       "298393            Remco Erie\n",
       "298432      Yuchang Eldridge\n",
       "299018     Seongbin Eldridge\n",
       "299672         Tadahiro Erde\n",
       "Length: 899, dtype: object"
      ]
     },
     "execution_count": 4,
     "metadata": {},
     "output_type": "execute_result"
    }
   ],
   "source": [
    "(\n",
    "    df[df.last_name.str.startswith('E') & df.last_name.str.endswith('e')].first_name\n",
    "    + ' '\n",
    "    + df[df.last_name.str.startswith('E') & df.last_name.str.endswith('e')].last_name\n",
    ")"
   ]
  },
  {
   "cell_type": "markdown",
   "metadata": {},
   "source": [
    "-- Convert the names produced in your last query to all uppercase."
   ]
  },
  {
   "cell_type": "code",
   "execution_count": 5,
   "metadata": {},
   "outputs": [
    {
     "data": {
      "text/plain": [
       "20                RAMZI ERDE\n",
       "130       MAGDALENA ELDRIDGE\n",
       "249             SERAP ETALLE\n",
       "260                MANG ERIE\n",
       "303               BERNT ERIE\n",
       "                 ...        \n",
       "298161    CHRISTFRIED ETALLE\n",
       "298393            REMCO ERIE\n",
       "298432      YUCHANG ELDRIDGE\n",
       "299018     SEONGBIN ELDRIDGE\n",
       "299672         TADAHIRO ERDE\n",
       "Length: 899, dtype: object"
      ]
     },
     "execution_count": 5,
     "metadata": {},
     "output_type": "execute_result"
    }
   ],
   "source": [
    "(\n",
    "    df[df.last_name.str.startswith('E') & df.last_name.str.endswith('e')].first_name\n",
    "    + ' '\n",
    "    + df[df.last_name.str.startswith('E') & df.last_name.str.endswith('e')].last_name\n",
    ").str.upper()"
   ]
  },
  {
   "cell_type": "markdown",
   "metadata": {},
   "source": [
    "-- Find all employees hired in the 90s and born on \n",
    "-- Christmas. Use datediff() function to find how many \n",
    "-- days they have been working at the company (Hint: \n",
    "-- You will also need to use NOW() or CURDATE()),"
   ]
  },
  {
   "cell_type": "code",
   "execution_count": 6,
   "metadata": {},
   "outputs": [
    {
     "name": "stderr",
     "output_type": "stream",
     "text": [
      "/var/folders/zb/3lg9b5xn3831bhkh23bd5bs00000gn/T/ipykernel_21886/2733074068.py:1: FutureWarning: The pandas.datetime class is deprecated and will be removed from pandas in a future version. Import from datetime module instead.\n",
      "  pd.datetime.today().date() - df[\n"
     ]
    },
    {
     "data": {
      "text/plain": [
       "260      10471 days\n",
       "437      11841 days\n",
       "680      10831 days\n",
       "709      11120 days\n",
       "1806     10937 days\n",
       "            ...    \n",
       "290768   11850 days\n",
       "293103   10484 days\n",
       "293974    9559 days\n",
       "294516   11636 days\n",
       "297902    9901 days\n",
       "Name: hire_date, Length: 362, dtype: timedelta64[ns]"
      ]
     },
     "execution_count": 6,
     "metadata": {},
     "output_type": "execute_result"
    }
   ],
   "source": [
    "pd.datetime.today().date() - df[\n",
    "                                df.hire_date.astype(str).str.startswith('199') \n",
    "                                & df.birth_date.astype(str).str.endswith('-12-25')\n",
    "                               ].hire_date"
   ]
  },
  {
   "cell_type": "markdown",
   "metadata": {},
   "source": [
    "-- Use your knowledge of built in SQL functions to \n",
    "generate a username for all of the employees. A \n",
    "username should be all lowercase, and consist of the \n",
    "first character of the employees first name, the \n",
    "first 4 characters of the employees last name, an \n",
    "underscore, the month the employee was born, and \n",
    "the last two digits of the year that they were born."
   ]
  },
  {
   "cell_type": "code",
   "execution_count": 7,
   "metadata": {},
   "outputs": [
    {
     "data": {
      "text/plain": [
       "0         gface_0953\n",
       "1         bsimm_0664\n",
       "2         pbamf_1259\n",
       "3         ckobl_0554\n",
       "4         kmali_0155\n",
       "             ...    \n",
       "300019    dlich_0958\n",
       "300020    zbaaz_0353\n",
       "300021    blena_0861\n",
       "300022    pbreu_0956\n",
       "300023    stsuk_0558\n",
       "Length: 300024, dtype: object"
      ]
     },
     "execution_count": 7,
     "metadata": {},
     "output_type": "execute_result"
    }
   ],
   "source": [
    "(df.first_name.str[0] \n",
    "  + df.last_name.str[0:4]\n",
    "  + '_'\n",
    "  + df.birth_date.astype(str).str[5:7]\n",
    "  + df.birth_date.astype(str).str[2:4]\n",
    ").str.lower()"
   ]
  }
 ],
 "metadata": {
  "interpreter": {
   "hash": "38cca0c38332a56087b24af0bc80247f4fced29cb4f7f437d91dc159adec9c4e"
  },
  "kernelspec": {
   "display_name": "Python 3.9.7 ('base')",
   "language": "python",
   "name": "python3"
  },
  "language_info": {
   "codemirror_mode": {
    "name": "ipython",
    "version": 3
   },
   "file_extension": ".py",
   "mimetype": "text/x-python",
   "name": "python",
   "nbconvert_exporter": "python",
   "pygments_lexer": "ipython3",
   "version": "3.9.7"
  },
  "orig_nbformat": 4
 },
 "nbformat": 4,
 "nbformat_minor": 2
}
