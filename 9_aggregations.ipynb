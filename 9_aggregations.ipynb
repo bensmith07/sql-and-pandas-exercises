{
 "cells": [
  {
   "cell_type": "code",
   "execution_count": 1,
   "metadata": {},
   "outputs": [],
   "source": [
    "import numpy as np\n",
    "import pandas as pd\n",
    "from env import get_db_url"
   ]
  },
  {
   "cell_type": "code",
   "execution_count": 3,
   "metadata": {},
   "outputs": [],
   "source": [
    "url = get_db_url('employees')\n",
    "\n",
    "sql = 'SELECT * FROM employees'\n",
    "emp = pd.read_sql(sql, url)\n",
    "\n",
    "sql = 'SELECT * FROM salaries'\n",
    "sal = pd.read_sql(sql, url)"
   ]
  },
  {
   "cell_type": "code",
   "execution_count": 4,
   "metadata": {},
   "outputs": [],
   "source": [
    "sql = 'SELECT * FROM titles'\n",
    "titles = pd.read_sql(sql, url)"
   ]
  },
  {
   "cell_type": "code",
   "execution_count": 32,
   "metadata": {},
   "outputs": [],
   "source": [
    "sql = 'SELECT * FROM dept_emp'\n",
    "de = pd.read_sql(sql, url)"
   ]
  },
  {
   "cell_type": "markdown",
   "metadata": {},
   "source": [
    "find the unique titles in the titles table"
   ]
  },
  {
   "cell_type": "code",
   "execution_count": 6,
   "metadata": {},
   "outputs": [
    {
     "data": {
      "text/plain": [
       "array(['Senior Engineer', 'Staff', 'Engineer', 'Senior Staff',\n",
       "       'Assistant Engineer', 'Technique Leader', 'Manager'], dtype=object)"
      ]
     },
     "execution_count": 6,
     "metadata": {},
     "output_type": "execute_result"
    }
   ],
   "source": [
    "titles.title.unique()"
   ]
  },
  {
   "cell_type": "markdown",
   "metadata": {},
   "source": [
    "find all unique last names that start and end with e"
   ]
  },
  {
   "cell_type": "code",
   "execution_count": 8,
   "metadata": {},
   "outputs": [
    {
     "data": {
      "text/plain": [
       "array(['Erde', 'Eldridge', 'Etalle', 'Erie', 'Erbe'], dtype=object)"
      ]
     },
     "execution_count": 8,
     "metadata": {},
     "output_type": "execute_result"
    }
   ],
   "source": [
    "emp.last_name[emp.last_name.str.startswith('E') & emp.last_name.str.endswith('e')].unique()"
   ]
  },
  {
   "cell_type": "markdown",
   "metadata": {},
   "source": [
    "find all unique combinations of first and last name whose last name start and end with e"
   ]
  },
  {
   "cell_type": "code",
   "execution_count": 15,
   "metadata": {},
   "outputs": [
    {
     "data": {
      "text/html": [
       "<div>\n",
       "<style scoped>\n",
       "    .dataframe tbody tr th:only-of-type {\n",
       "        vertical-align: middle;\n",
       "    }\n",
       "\n",
       "    .dataframe tbody tr th {\n",
       "        vertical-align: top;\n",
       "    }\n",
       "\n",
       "    .dataframe thead th {\n",
       "        text-align: right;\n",
       "    }\n",
       "</style>\n",
       "<table border=\"1\" class=\"dataframe\">\n",
       "  <thead>\n",
       "    <tr style=\"text-align: right;\">\n",
       "      <th></th>\n",
       "      <th></th>\n",
       "    </tr>\n",
       "    <tr>\n",
       "      <th>first_name</th>\n",
       "      <th>last_name</th>\n",
       "    </tr>\n",
       "  </thead>\n",
       "  <tbody>\n",
       "    <tr>\n",
       "      <th>Aamod</th>\n",
       "      <th>Erde</th>\n",
       "    </tr>\n",
       "    <tr>\n",
       "      <th>Abdelaziz</th>\n",
       "      <th>Eldridge</th>\n",
       "    </tr>\n",
       "    <tr>\n",
       "      <th rowspan=\"2\" valign=\"top\">Abdelkader</th>\n",
       "      <th>Eldridge</th>\n",
       "    </tr>\n",
       "    <tr>\n",
       "      <th>Erbe</th>\n",
       "    </tr>\n",
       "    <tr>\n",
       "      <th>Abdelwaheb</th>\n",
       "      <th>Eldridge</th>\n",
       "    </tr>\n",
       "    <tr>\n",
       "      <th>...</th>\n",
       "      <th>...</th>\n",
       "    </tr>\n",
       "    <tr>\n",
       "      <th>Zito</th>\n",
       "      <th>Eldridge</th>\n",
       "    </tr>\n",
       "    <tr>\n",
       "      <th>Ziva</th>\n",
       "      <th>Erde</th>\n",
       "    </tr>\n",
       "    <tr>\n",
       "      <th rowspan=\"2\" valign=\"top\">Ziya</th>\n",
       "      <th>Eldridge</th>\n",
       "    </tr>\n",
       "    <tr>\n",
       "      <th>Etalle</th>\n",
       "    </tr>\n",
       "    <tr>\n",
       "      <th>Zvonko</th>\n",
       "      <th>Erde</th>\n",
       "    </tr>\n",
       "  </tbody>\n",
       "</table>\n",
       "<p>846 rows × 0 columns</p>\n",
       "</div>"
      ],
      "text/plain": [
       "Empty DataFrame\n",
       "Columns: []\n",
       "Index: [(Aamod, Erde), (Abdelaziz, Eldridge), (Abdelkader, Eldridge), (Abdelkader, Erbe), (Abdelwaheb, Eldridge), (Abdelwaheb, Erbe), (Abdulla, Erie), (Achilleas, Erde), (Achilleas, Erie), (Adam, Erie), (Adamantios, Etalle), (Adas, Erde), (Adas, Etalle), (Adib, Erbe), (Adib, Etalle), (Adil, Etalle), (Adly, Erie), (Aiichiro, Erie), (Akemi, Erde), (Akeno, Etalle), (Aksel, Erde), (Alagu, Erbe), (Alain, Eldridge), (Alejandra, Eldridge), (Alenka, Erde), (Alexius, Erie), (Almudena, Erie), (Along, Erie), (Aloys, Eldridge), (Aloys, Erde), (Alper, Erie), (Amabile, Eldridge), (Angel, Erde), (Angus, Eldridge), (Anwar, Erbe), (Anwar, Erde), (Anwar, Etalle), (Anyuan, Etalle), (Apostol, Erde), (Aram, Eldridge), (Arch, Erie), (Arco, Erie), (Arie, Eldridge), (Aris, Erie), (Armond, Etalle), (Arnd, Erie), (Arno, Erde), (Arno, Erie), (Aron, Erde), (Aron, Erie), (Arra, Erie), (Arra, Etalle), (Arto, Erbe), (Arto, Etalle), (Aruna, Erde), (Aruna, Etalle), (Arunachalam, Erie), (Arunas, Erde), (Arunas, Etalle), (Arve, Erde), (Ashish, Erie), (Atreyi, Eldridge), (Atreyi, Erie), (Avishai, Erbe), (Ayakannu, Eldridge), (Ayonca, Erbe), (Babette, Eldridge), (Babette, Erbe), (Babette, Erde), (Bader, Eldridge), (Bader, Erde), (Baoqiu, Erie), (Baoqiu, Etalle), (Barry, Erde), (Bartek, Eldridge), (Bartek, Erbe), (Barton, Erie), (Baruch, Erbe), (Barun, Erde), (Basant, Erbe), (Basem, Eldridge), (Basil, Erie), (Baziley, Eldridge), (Becky, Erbe), (Becky, Erie), (Becky, Etalle), (Bedrich, Erie), (Berhard, Eldridge), (Berhard, Erde), (Berna, Erbe), (Berna, Etalle), (Bernardo, Erde), (Bernd, Erbe), (Bernd, Etalle), (Bernt, Erie), (Berry, Erde), (Beshir, Erie), (Beshir, Etalle), (Bezalel, Etalle), (Bingning, Eldridge), ...]\n",
       "\n",
       "[846 rows x 0 columns]"
      ]
     },
     "execution_count": 15,
     "metadata": {},
     "output_type": "execute_result"
    }
   ],
   "source": [
    "(\n",
    "    emp[['first_name', 'last_name']][emp.last_name.str.startswith('E') & emp.last_name.str.endswith('e')]\n",
    "    .groupby(['first_name', 'last_name']).count()\n",
    ")"
   ]
  },
  {
   "cell_type": "markdown",
   "metadata": {},
   "source": [
    "find the unique last names with 'q' but not 'qu'"
   ]
  },
  {
   "cell_type": "code",
   "execution_count": 17,
   "metadata": {},
   "outputs": [
    {
     "data": {
      "text/plain": [
       "array(['Chleq', 'Lindqvist', 'Qiwen'], dtype=object)"
      ]
     },
     "execution_count": 17,
     "metadata": {},
     "output_type": "execute_result"
    }
   ],
   "source": [
    "(\n",
    "    emp.last_name[\n",
    "                      emp.last_name.str.lower().str.contains('q')\n",
    "                  & ~ emp.last_name.str.lower().str.contains('qu')\n",
    "                 ]\n",
    "       .unique()\n",
    ")"
   ]
  },
  {
   "cell_type": "markdown",
   "metadata": {},
   "source": [
    "add a count function to the query above to find the number of employees with each last name"
   ]
  },
  {
   "cell_type": "code",
   "execution_count": 23,
   "metadata": {},
   "outputs": [
    {
     "data": {
      "text/plain": [
       "last_name\n",
       "Chleq        189\n",
       "Lindqvist    190\n",
       "Qiwen        168\n",
       "Name: emp_no, dtype: int64"
      ]
     },
     "execution_count": 23,
     "metadata": {},
     "output_type": "execute_result"
    }
   ],
   "source": [
    "(\n",
    "    emp[\n",
    "            emp.last_name.str.lower().str.contains('q')\n",
    "        & ~ emp.last_name.str.lower().str.contains('qu')\n",
    "       ]\n",
    "       .groupby('last_name').count()\n",
    "       .emp_no\n",
    ")"
   ]
  },
  {
   "cell_type": "markdown",
   "metadata": {},
   "source": [
    "Find all all employees with first names 'Irena', 'Vidya', or 'Maya'. find the number of employees with each first name"
   ]
  },
  {
   "cell_type": "code",
   "execution_count": 27,
   "metadata": {},
   "outputs": [
    {
     "data": {
      "text/plain": [
       "first_name\n",
       "Irena    241\n",
       "Maya     236\n",
       "Vidya    232\n",
       "Name: emp_no, dtype: int64"
      ]
     },
     "execution_count": 27,
     "metadata": {},
     "output_type": "execute_result"
    }
   ],
   "source": [
    "(\n",
    "    emp[emp.first_name.isin(['Irena', 'Vidya', 'Maya'])]\n",
    "      .groupby('first_name')\n",
    "      .count()\n",
    "      .emp_no\n",
    ")"
   ]
  },
  {
   "cell_type": "markdown",
   "metadata": {},
   "source": [
    "determine the historic average salary for each employee"
   ]
  },
  {
   "cell_type": "code",
   "execution_count": 31,
   "metadata": {},
   "outputs": [
    {
     "data": {
      "text/html": [
       "<div>\n",
       "<style scoped>\n",
       "    .dataframe tbody tr th:only-of-type {\n",
       "        vertical-align: middle;\n",
       "    }\n",
       "\n",
       "    .dataframe tbody tr th {\n",
       "        vertical-align: top;\n",
       "    }\n",
       "\n",
       "    .dataframe thead th {\n",
       "        text-align: right;\n",
       "    }\n",
       "</style>\n",
       "<table border=\"1\" class=\"dataframe\">\n",
       "  <thead>\n",
       "    <tr style=\"text-align: right;\">\n",
       "      <th></th>\n",
       "      <th>salary</th>\n",
       "    </tr>\n",
       "    <tr>\n",
       "      <th>emp_no</th>\n",
       "      <th></th>\n",
       "    </tr>\n",
       "  </thead>\n",
       "  <tbody>\n",
       "    <tr>\n",
       "      <th>10001</th>\n",
       "      <td>75388.941176</td>\n",
       "    </tr>\n",
       "    <tr>\n",
       "      <th>10002</th>\n",
       "      <td>68854.500000</td>\n",
       "    </tr>\n",
       "    <tr>\n",
       "      <th>10003</th>\n",
       "      <td>43030.285714</td>\n",
       "    </tr>\n",
       "    <tr>\n",
       "      <th>10004</th>\n",
       "      <td>56512.250000</td>\n",
       "    </tr>\n",
       "    <tr>\n",
       "      <th>10005</th>\n",
       "      <td>87275.769231</td>\n",
       "    </tr>\n",
       "    <tr>\n",
       "      <th>...</th>\n",
       "      <td>...</td>\n",
       "    </tr>\n",
       "    <tr>\n",
       "      <th>499995</th>\n",
       "      <td>45891.666667</td>\n",
       "    </tr>\n",
       "    <tr>\n",
       "      <th>499996</th>\n",
       "      <td>63134.142857</td>\n",
       "    </tr>\n",
       "    <tr>\n",
       "      <th>499997</th>\n",
       "      <td>66475.866667</td>\n",
       "    </tr>\n",
       "    <tr>\n",
       "      <th>499998</th>\n",
       "      <td>46665.555556</td>\n",
       "    </tr>\n",
       "    <tr>\n",
       "      <th>499999</th>\n",
       "      <td>70625.000000</td>\n",
       "    </tr>\n",
       "  </tbody>\n",
       "</table>\n",
       "<p>300024 rows × 1 columns</p>\n",
       "</div>"
      ],
      "text/plain": [
       "              salary\n",
       "emp_no              \n",
       "10001   75388.941176\n",
       "10002   68854.500000\n",
       "10003   43030.285714\n",
       "10004   56512.250000\n",
       "10005   87275.769231\n",
       "...              ...\n",
       "499995  45891.666667\n",
       "499996  63134.142857\n",
       "499997  66475.866667\n",
       "499998  46665.555556\n",
       "499999  70625.000000\n",
       "\n",
       "[300024 rows x 1 columns]"
      ]
     },
     "execution_count": 31,
     "metadata": {},
     "output_type": "execute_result"
    }
   ],
   "source": [
    "sal.groupby('emp_no').mean()"
   ]
  },
  {
   "cell_type": "markdown",
   "metadata": {},
   "source": [
    "how many employees work in each department (dept_emp table)"
   ]
  },
  {
   "cell_type": "code",
   "execution_count": 35,
   "metadata": {},
   "outputs": [
    {
     "data": {
      "text/plain": [
       "dept_no\n",
       "d001    20211\n",
       "d002    17346\n",
       "d003    17786\n",
       "d004    73485\n",
       "d005    85707\n",
       "d006    20117\n",
       "d007    52245\n",
       "d008    21126\n",
       "d009    23580\n",
       "Name: emp_no, dtype: int64"
      ]
     },
     "execution_count": 35,
     "metadata": {},
     "output_type": "execute_result"
    }
   ],
   "source": [
    "de.groupby('dept_no').count().emp_no"
   ]
  }
 ],
 "metadata": {
  "kernelspec": {
   "display_name": "Python 3.9.7 ('base')",
   "language": "python",
   "name": "python3"
  },
  "language_info": {
   "codemirror_mode": {
    "name": "ipython",
    "version": 3
   },
   "file_extension": ".py",
   "mimetype": "text/x-python",
   "name": "python",
   "nbconvert_exporter": "python",
   "pygments_lexer": "ipython3",
   "version": "3.9.7"
  },
  "orig_nbformat": 4,
  "vscode": {
   "interpreter": {
    "hash": "38cca0c38332a56087b24af0bc80247f4fced29cb4f7f437d91dc159adec9c4e"
   }
  }
 },
 "nbformat": 4,
 "nbformat_minor": 2
}
